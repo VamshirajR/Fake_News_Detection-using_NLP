{
  "nbformat": 4,
  "nbformat_minor": 0,
  "metadata": {
    "colab": {
      "provenance": [],
      "gpuType": "T4"
    },
    "kernelspec": {
      "name": "python3",
      "display_name": "Python 3"
    },
    "language_info": {
      "name": "python"
    },
    "accelerator": "GPU"
  },
  "cells": [
    {
      "cell_type": "markdown",
      "source": [
        "## Step 1: Import Necessary Libraries"
      ],
      "metadata": {
        "id": "oVhCtE_SwomP"
      }
    },
    {
      "cell_type": "code",
      "execution_count": null,
      "metadata": {
        "id": "nDVWXLh6bqT1",
        "colab": {
          "base_uri": "https://localhost:8080/"
        },
        "outputId": "e1d27123-3f76-4eab-ea8b-41123cd35707"
      },
      "outputs": [
        {
          "output_type": "stream",
          "name": "stderr",
          "text": [
            "[nltk_data] Downloading package punkt to /root/nltk_data...\n",
            "[nltk_data]   Unzipping tokenizers/punkt.zip.\n",
            "[nltk_data] Downloading package stopwords to /root/nltk_data...\n",
            "[nltk_data]   Unzipping corpora/stopwords.zip.\n"
          ]
        },
        {
          "output_type": "execute_result",
          "data": {
            "text/plain": [
              "True"
            ]
          },
          "metadata": {},
          "execution_count": 3
        }
      ],
      "source": [
        "import pandas as pd\n",
        "import numpy as np\n",
        "from sklearn.model_selection import train_test_split\n",
        "from sklearn.feature_extraction.text import TfidfVectorizer\n",
        "from sklearn.naive_bayes import MultinomialNB\n",
        "from sklearn.metrics import accuracy_score, confusion_matrix, classification_report\n",
        "from sklearn.naive_bayes import MultinomialNB\n",
        "import matplotlib.pyplot as plt\n",
        "import seaborn as sns\n",
        "import nltk\n",
        "from nltk.corpus import stopwords\n",
        "nltk.download('punkt')\n",
        "nltk.download('stopwords')"
      ]
    },
    {
      "cell_type": "markdown",
      "source": [
        "## Step 2: Load and Explore the Dataset"
      ],
      "metadata": {
        "id": "eIjcqHkpEZld"
      }
    },
    {
      "cell_type": "code",
      "source": [
        "# Load the dataset\n",
        "true_df = pd.read_csv('/content/drive/MyDrive/Colab Notebooks/fake-news-detective/dataset/True.csv')\n",
        "false_df = pd.read_csv('/content/drive/MyDrive/Colab Notebooks/fake-news-detective/dataset/Fake.csv')\n",
        "\n",
        "# Add labels to indicate real and fake news\n",
        "true_df['label'] = 1\n",
        "false_df['label'] = 0\n",
        "\n",
        "# Concatenate both datasets\n",
        "data = pd.concat([true_df, false_df])"
      ],
      "metadata": {
        "id": "mmKulC38EkEY"
      },
      "execution_count": null,
      "outputs": []
    },
    {
      "cell_type": "code",
      "source": [
        "#True dataset\n",
        "true_df.head()"
      ],
      "metadata": {
        "colab": {
          "base_uri": "https://localhost:8080/",
          "height": 206
        },
        "id": "BAD28lOlYCyP",
        "outputId": "8a9d172f-e8bd-4cbc-f459-89fffb0219d2"
      },
      "execution_count": null,
      "outputs": [
        {
          "output_type": "execute_result",
          "data": {
            "text/plain": [
              "                                               title  \\\n",
              "0  As U.S. budget fight looms, Republicans flip t...   \n",
              "1  U.S. military to accept transgender recruits o...   \n",
              "2  Senior U.S. Republican senator: 'Let Mr. Muell...   \n",
              "3  FBI Russia probe helped by Australian diplomat...   \n",
              "4  Trump wants Postal Service to charge 'much mor...   \n",
              "\n",
              "                                                text       subject  \\\n",
              "0  WASHINGTON (Reuters) - The head of a conservat...  politicsNews   \n",
              "1  WASHINGTON (Reuters) - Transgender people will...  politicsNews   \n",
              "2  WASHINGTON (Reuters) - The special counsel inv...  politicsNews   \n",
              "3  WASHINGTON (Reuters) - Trump campaign adviser ...  politicsNews   \n",
              "4  SEATTLE/WASHINGTON (Reuters) - President Donal...  politicsNews   \n",
              "\n",
              "                 date  label  \n",
              "0  December 31, 2017       1  \n",
              "1  December 29, 2017       1  \n",
              "2  December 31, 2017       1  \n",
              "3  December 30, 2017       1  \n",
              "4  December 29, 2017       1  "
            ],
            "text/html": [
              "\n",
              "  <div id=\"df-5cac6f51-fc6c-4290-a312-92cbfaf2b847\" class=\"colab-df-container\">\n",
              "    <div>\n",
              "<style scoped>\n",
              "    .dataframe tbody tr th:only-of-type {\n",
              "        vertical-align: middle;\n",
              "    }\n",
              "\n",
              "    .dataframe tbody tr th {\n",
              "        vertical-align: top;\n",
              "    }\n",
              "\n",
              "    .dataframe thead th {\n",
              "        text-align: right;\n",
              "    }\n",
              "</style>\n",
              "<table border=\"1\" class=\"dataframe\">\n",
              "  <thead>\n",
              "    <tr style=\"text-align: right;\">\n",
              "      <th></th>\n",
              "      <th>title</th>\n",
              "      <th>text</th>\n",
              "      <th>subject</th>\n",
              "      <th>date</th>\n",
              "      <th>label</th>\n",
              "    </tr>\n",
              "  </thead>\n",
              "  <tbody>\n",
              "    <tr>\n",
              "      <th>0</th>\n",
              "      <td>As U.S. budget fight looms, Republicans flip t...</td>\n",
              "      <td>WASHINGTON (Reuters) - The head of a conservat...</td>\n",
              "      <td>politicsNews</td>\n",
              "      <td>December 31, 2017</td>\n",
              "      <td>1</td>\n",
              "    </tr>\n",
              "    <tr>\n",
              "      <th>1</th>\n",
              "      <td>U.S. military to accept transgender recruits o...</td>\n",
              "      <td>WASHINGTON (Reuters) - Transgender people will...</td>\n",
              "      <td>politicsNews</td>\n",
              "      <td>December 29, 2017</td>\n",
              "      <td>1</td>\n",
              "    </tr>\n",
              "    <tr>\n",
              "      <th>2</th>\n",
              "      <td>Senior U.S. Republican senator: 'Let Mr. Muell...</td>\n",
              "      <td>WASHINGTON (Reuters) - The special counsel inv...</td>\n",
              "      <td>politicsNews</td>\n",
              "      <td>December 31, 2017</td>\n",
              "      <td>1</td>\n",
              "    </tr>\n",
              "    <tr>\n",
              "      <th>3</th>\n",
              "      <td>FBI Russia probe helped by Australian diplomat...</td>\n",
              "      <td>WASHINGTON (Reuters) - Trump campaign adviser ...</td>\n",
              "      <td>politicsNews</td>\n",
              "      <td>December 30, 2017</td>\n",
              "      <td>1</td>\n",
              "    </tr>\n",
              "    <tr>\n",
              "      <th>4</th>\n",
              "      <td>Trump wants Postal Service to charge 'much mor...</td>\n",
              "      <td>SEATTLE/WASHINGTON (Reuters) - President Donal...</td>\n",
              "      <td>politicsNews</td>\n",
              "      <td>December 29, 2017</td>\n",
              "      <td>1</td>\n",
              "    </tr>\n",
              "  </tbody>\n",
              "</table>\n",
              "</div>\n",
              "    <div class=\"colab-df-buttons\">\n",
              "\n",
              "  <div class=\"colab-df-container\">\n",
              "    <button class=\"colab-df-convert\" onclick=\"convertToInteractive('df-5cac6f51-fc6c-4290-a312-92cbfaf2b847')\"\n",
              "            title=\"Convert this dataframe to an interactive table.\"\n",
              "            style=\"display:none;\">\n",
              "\n",
              "  <svg xmlns=\"http://www.w3.org/2000/svg\" height=\"24px\" viewBox=\"0 -960 960 960\">\n",
              "    <path d=\"M120-120v-720h720v720H120Zm60-500h600v-160H180v160Zm220 220h160v-160H400v160Zm0 220h160v-160H400v160ZM180-400h160v-160H180v160Zm440 0h160v-160H620v160ZM180-180h160v-160H180v160Zm440 0h160v-160H620v160Z\"/>\n",
              "  </svg>\n",
              "    </button>\n",
              "\n",
              "  <style>\n",
              "    .colab-df-container {\n",
              "      display:flex;\n",
              "      gap: 12px;\n",
              "    }\n",
              "\n",
              "    .colab-df-convert {\n",
              "      background-color: #E8F0FE;\n",
              "      border: none;\n",
              "      border-radius: 50%;\n",
              "      cursor: pointer;\n",
              "      display: none;\n",
              "      fill: #1967D2;\n",
              "      height: 32px;\n",
              "      padding: 0 0 0 0;\n",
              "      width: 32px;\n",
              "    }\n",
              "\n",
              "    .colab-df-convert:hover {\n",
              "      background-color: #E2EBFA;\n",
              "      box-shadow: 0px 1px 2px rgba(60, 64, 67, 0.3), 0px 1px 3px 1px rgba(60, 64, 67, 0.15);\n",
              "      fill: #174EA6;\n",
              "    }\n",
              "\n",
              "    .colab-df-buttons div {\n",
              "      margin-bottom: 4px;\n",
              "    }\n",
              "\n",
              "    [theme=dark] .colab-df-convert {\n",
              "      background-color: #3B4455;\n",
              "      fill: #D2E3FC;\n",
              "    }\n",
              "\n",
              "    [theme=dark] .colab-df-convert:hover {\n",
              "      background-color: #434B5C;\n",
              "      box-shadow: 0px 1px 3px 1px rgba(0, 0, 0, 0.15);\n",
              "      filter: drop-shadow(0px 1px 2px rgba(0, 0, 0, 0.3));\n",
              "      fill: #FFFFFF;\n",
              "    }\n",
              "  </style>\n",
              "\n",
              "    <script>\n",
              "      const buttonEl =\n",
              "        document.querySelector('#df-5cac6f51-fc6c-4290-a312-92cbfaf2b847 button.colab-df-convert');\n",
              "      buttonEl.style.display =\n",
              "        google.colab.kernel.accessAllowed ? 'block' : 'none';\n",
              "\n",
              "      async function convertToInteractive(key) {\n",
              "        const element = document.querySelector('#df-5cac6f51-fc6c-4290-a312-92cbfaf2b847');\n",
              "        const dataTable =\n",
              "          await google.colab.kernel.invokeFunction('convertToInteractive',\n",
              "                                                    [key], {});\n",
              "        if (!dataTable) return;\n",
              "\n",
              "        const docLinkHtml = 'Like what you see? Visit the ' +\n",
              "          '<a target=\"_blank\" href=https://colab.research.google.com/notebooks/data_table.ipynb>data table notebook</a>'\n",
              "          + ' to learn more about interactive tables.';\n",
              "        element.innerHTML = '';\n",
              "        dataTable['output_type'] = 'display_data';\n",
              "        await google.colab.output.renderOutput(dataTable, element);\n",
              "        const docLink = document.createElement('div');\n",
              "        docLink.innerHTML = docLinkHtml;\n",
              "        element.appendChild(docLink);\n",
              "      }\n",
              "    </script>\n",
              "  </div>\n",
              "\n",
              "\n",
              "<div id=\"df-98680886-7062-49d3-9d67-1ef6a951a7c8\">\n",
              "  <button class=\"colab-df-quickchart\" onclick=\"quickchart('df-98680886-7062-49d3-9d67-1ef6a951a7c8')\"\n",
              "            title=\"Suggest charts.\"\n",
              "            style=\"display:none;\">\n",
              "\n",
              "<svg xmlns=\"http://www.w3.org/2000/svg\" height=\"24px\"viewBox=\"0 0 24 24\"\n",
              "     width=\"24px\">\n",
              "    <g>\n",
              "        <path d=\"M19 3H5c-1.1 0-2 .9-2 2v14c0 1.1.9 2 2 2h14c1.1 0 2-.9 2-2V5c0-1.1-.9-2-2-2zM9 17H7v-7h2v7zm4 0h-2V7h2v10zm4 0h-2v-4h2v4z\"/>\n",
              "    </g>\n",
              "</svg>\n",
              "  </button>\n",
              "\n",
              "<style>\n",
              "  .colab-df-quickchart {\n",
              "      --bg-color: #E8F0FE;\n",
              "      --fill-color: #1967D2;\n",
              "      --hover-bg-color: #E2EBFA;\n",
              "      --hover-fill-color: #174EA6;\n",
              "      --disabled-fill-color: #AAA;\n",
              "      --disabled-bg-color: #DDD;\n",
              "  }\n",
              "\n",
              "  [theme=dark] .colab-df-quickchart {\n",
              "      --bg-color: #3B4455;\n",
              "      --fill-color: #D2E3FC;\n",
              "      --hover-bg-color: #434B5C;\n",
              "      --hover-fill-color: #FFFFFF;\n",
              "      --disabled-bg-color: #3B4455;\n",
              "      --disabled-fill-color: #666;\n",
              "  }\n",
              "\n",
              "  .colab-df-quickchart {\n",
              "    background-color: var(--bg-color);\n",
              "    border: none;\n",
              "    border-radius: 50%;\n",
              "    cursor: pointer;\n",
              "    display: none;\n",
              "    fill: var(--fill-color);\n",
              "    height: 32px;\n",
              "    padding: 0;\n",
              "    width: 32px;\n",
              "  }\n",
              "\n",
              "  .colab-df-quickchart:hover {\n",
              "    background-color: var(--hover-bg-color);\n",
              "    box-shadow: 0 1px 2px rgba(60, 64, 67, 0.3), 0 1px 3px 1px rgba(60, 64, 67, 0.15);\n",
              "    fill: var(--button-hover-fill-color);\n",
              "  }\n",
              "\n",
              "  .colab-df-quickchart-complete:disabled,\n",
              "  .colab-df-quickchart-complete:disabled:hover {\n",
              "    background-color: var(--disabled-bg-color);\n",
              "    fill: var(--disabled-fill-color);\n",
              "    box-shadow: none;\n",
              "  }\n",
              "\n",
              "  .colab-df-spinner {\n",
              "    border: 2px solid var(--fill-color);\n",
              "    border-color: transparent;\n",
              "    border-bottom-color: var(--fill-color);\n",
              "    animation:\n",
              "      spin 1s steps(1) infinite;\n",
              "  }\n",
              "\n",
              "  @keyframes spin {\n",
              "    0% {\n",
              "      border-color: transparent;\n",
              "      border-bottom-color: var(--fill-color);\n",
              "      border-left-color: var(--fill-color);\n",
              "    }\n",
              "    20% {\n",
              "      border-color: transparent;\n",
              "      border-left-color: var(--fill-color);\n",
              "      border-top-color: var(--fill-color);\n",
              "    }\n",
              "    30% {\n",
              "      border-color: transparent;\n",
              "      border-left-color: var(--fill-color);\n",
              "      border-top-color: var(--fill-color);\n",
              "      border-right-color: var(--fill-color);\n",
              "    }\n",
              "    40% {\n",
              "      border-color: transparent;\n",
              "      border-right-color: var(--fill-color);\n",
              "      border-top-color: var(--fill-color);\n",
              "    }\n",
              "    60% {\n",
              "      border-color: transparent;\n",
              "      border-right-color: var(--fill-color);\n",
              "    }\n",
              "    80% {\n",
              "      border-color: transparent;\n",
              "      border-right-color: var(--fill-color);\n",
              "      border-bottom-color: var(--fill-color);\n",
              "    }\n",
              "    90% {\n",
              "      border-color: transparent;\n",
              "      border-bottom-color: var(--fill-color);\n",
              "    }\n",
              "  }\n",
              "</style>\n",
              "\n",
              "  <script>\n",
              "    async function quickchart(key) {\n",
              "      const quickchartButtonEl =\n",
              "        document.querySelector('#' + key + ' button');\n",
              "      quickchartButtonEl.disabled = true;  // To prevent multiple clicks.\n",
              "      quickchartButtonEl.classList.add('colab-df-spinner');\n",
              "      try {\n",
              "        const charts = await google.colab.kernel.invokeFunction(\n",
              "            'suggestCharts', [key], {});\n",
              "      } catch (error) {\n",
              "        console.error('Error during call to suggestCharts:', error);\n",
              "      }\n",
              "      quickchartButtonEl.classList.remove('colab-df-spinner');\n",
              "      quickchartButtonEl.classList.add('colab-df-quickchart-complete');\n",
              "    }\n",
              "    (() => {\n",
              "      let quickchartButtonEl =\n",
              "        document.querySelector('#df-98680886-7062-49d3-9d67-1ef6a951a7c8 button');\n",
              "      quickchartButtonEl.style.display =\n",
              "        google.colab.kernel.accessAllowed ? 'block' : 'none';\n",
              "    })();\n",
              "  </script>\n",
              "</div>\n",
              "    </div>\n",
              "  </div>\n"
            ]
          },
          "metadata": {},
          "execution_count": 5
        }
      ]
    },
    {
      "cell_type": "code",
      "source": [
        "#Fake dataset\n",
        "false_df.head()"
      ],
      "metadata": {
        "colab": {
          "base_uri": "https://localhost:8080/",
          "height": 206
        },
        "id": "OCziW34sX7Nf",
        "outputId": "d2bbd0af-d71b-4f19-9f53-871d2d3ecc01"
      },
      "execution_count": null,
      "outputs": [
        {
          "output_type": "execute_result",
          "data": {
            "text/plain": [
              "                                               title  \\\n",
              "0   Donald Trump Sends Out Embarrassing New Year’...   \n",
              "1   Drunk Bragging Trump Staffer Started Russian ...   \n",
              "2   Sheriff David Clarke Becomes An Internet Joke...   \n",
              "3   Trump Is So Obsessed He Even Has Obama’s Name...   \n",
              "4   Pope Francis Just Called Out Donald Trump Dur...   \n",
              "\n",
              "                                                text subject  \\\n",
              "0  Donald Trump just couldn t wish all Americans ...    News   \n",
              "1  House Intelligence Committee Chairman Devin Nu...    News   \n",
              "2  On Friday, it was revealed that former Milwauk...    News   \n",
              "3  On Christmas day, Donald Trump announced that ...    News   \n",
              "4  Pope Francis used his annual Christmas Day mes...    News   \n",
              "\n",
              "                date  label  \n",
              "0  December 31, 2017      0  \n",
              "1  December 31, 2017      0  \n",
              "2  December 30, 2017      0  \n",
              "3  December 29, 2017      0  \n",
              "4  December 25, 2017      0  "
            ],
            "text/html": [
              "\n",
              "  <div id=\"df-82cba6b9-20c8-4ac0-b8f2-5371146dcb08\" class=\"colab-df-container\">\n",
              "    <div>\n",
              "<style scoped>\n",
              "    .dataframe tbody tr th:only-of-type {\n",
              "        vertical-align: middle;\n",
              "    }\n",
              "\n",
              "    .dataframe tbody tr th {\n",
              "        vertical-align: top;\n",
              "    }\n",
              "\n",
              "    .dataframe thead th {\n",
              "        text-align: right;\n",
              "    }\n",
              "</style>\n",
              "<table border=\"1\" class=\"dataframe\">\n",
              "  <thead>\n",
              "    <tr style=\"text-align: right;\">\n",
              "      <th></th>\n",
              "      <th>title</th>\n",
              "      <th>text</th>\n",
              "      <th>subject</th>\n",
              "      <th>date</th>\n",
              "      <th>label</th>\n",
              "    </tr>\n",
              "  </thead>\n",
              "  <tbody>\n",
              "    <tr>\n",
              "      <th>0</th>\n",
              "      <td>Donald Trump Sends Out Embarrassing New Year’...</td>\n",
              "      <td>Donald Trump just couldn t wish all Americans ...</td>\n",
              "      <td>News</td>\n",
              "      <td>December 31, 2017</td>\n",
              "      <td>0</td>\n",
              "    </tr>\n",
              "    <tr>\n",
              "      <th>1</th>\n",
              "      <td>Drunk Bragging Trump Staffer Started Russian ...</td>\n",
              "      <td>House Intelligence Committee Chairman Devin Nu...</td>\n",
              "      <td>News</td>\n",
              "      <td>December 31, 2017</td>\n",
              "      <td>0</td>\n",
              "    </tr>\n",
              "    <tr>\n",
              "      <th>2</th>\n",
              "      <td>Sheriff David Clarke Becomes An Internet Joke...</td>\n",
              "      <td>On Friday, it was revealed that former Milwauk...</td>\n",
              "      <td>News</td>\n",
              "      <td>December 30, 2017</td>\n",
              "      <td>0</td>\n",
              "    </tr>\n",
              "    <tr>\n",
              "      <th>3</th>\n",
              "      <td>Trump Is So Obsessed He Even Has Obama’s Name...</td>\n",
              "      <td>On Christmas day, Donald Trump announced that ...</td>\n",
              "      <td>News</td>\n",
              "      <td>December 29, 2017</td>\n",
              "      <td>0</td>\n",
              "    </tr>\n",
              "    <tr>\n",
              "      <th>4</th>\n",
              "      <td>Pope Francis Just Called Out Donald Trump Dur...</td>\n",
              "      <td>Pope Francis used his annual Christmas Day mes...</td>\n",
              "      <td>News</td>\n",
              "      <td>December 25, 2017</td>\n",
              "      <td>0</td>\n",
              "    </tr>\n",
              "  </tbody>\n",
              "</table>\n",
              "</div>\n",
              "    <div class=\"colab-df-buttons\">\n",
              "\n",
              "  <div class=\"colab-df-container\">\n",
              "    <button class=\"colab-df-convert\" onclick=\"convertToInteractive('df-82cba6b9-20c8-4ac0-b8f2-5371146dcb08')\"\n",
              "            title=\"Convert this dataframe to an interactive table.\"\n",
              "            style=\"display:none;\">\n",
              "\n",
              "  <svg xmlns=\"http://www.w3.org/2000/svg\" height=\"24px\" viewBox=\"0 -960 960 960\">\n",
              "    <path d=\"M120-120v-720h720v720H120Zm60-500h600v-160H180v160Zm220 220h160v-160H400v160Zm0 220h160v-160H400v160ZM180-400h160v-160H180v160Zm440 0h160v-160H620v160ZM180-180h160v-160H180v160Zm440 0h160v-160H620v160Z\"/>\n",
              "  </svg>\n",
              "    </button>\n",
              "\n",
              "  <style>\n",
              "    .colab-df-container {\n",
              "      display:flex;\n",
              "      gap: 12px;\n",
              "    }\n",
              "\n",
              "    .colab-df-convert {\n",
              "      background-color: #E8F0FE;\n",
              "      border: none;\n",
              "      border-radius: 50%;\n",
              "      cursor: pointer;\n",
              "      display: none;\n",
              "      fill: #1967D2;\n",
              "      height: 32px;\n",
              "      padding: 0 0 0 0;\n",
              "      width: 32px;\n",
              "    }\n",
              "\n",
              "    .colab-df-convert:hover {\n",
              "      background-color: #E2EBFA;\n",
              "      box-shadow: 0px 1px 2px rgba(60, 64, 67, 0.3), 0px 1px 3px 1px rgba(60, 64, 67, 0.15);\n",
              "      fill: #174EA6;\n",
              "    }\n",
              "\n",
              "    .colab-df-buttons div {\n",
              "      margin-bottom: 4px;\n",
              "    }\n",
              "\n",
              "    [theme=dark] .colab-df-convert {\n",
              "      background-color: #3B4455;\n",
              "      fill: #D2E3FC;\n",
              "    }\n",
              "\n",
              "    [theme=dark] .colab-df-convert:hover {\n",
              "      background-color: #434B5C;\n",
              "      box-shadow: 0px 1px 3px 1px rgba(0, 0, 0, 0.15);\n",
              "      filter: drop-shadow(0px 1px 2px rgba(0, 0, 0, 0.3));\n",
              "      fill: #FFFFFF;\n",
              "    }\n",
              "  </style>\n",
              "\n",
              "    <script>\n",
              "      const buttonEl =\n",
              "        document.querySelector('#df-82cba6b9-20c8-4ac0-b8f2-5371146dcb08 button.colab-df-convert');\n",
              "      buttonEl.style.display =\n",
              "        google.colab.kernel.accessAllowed ? 'block' : 'none';\n",
              "\n",
              "      async function convertToInteractive(key) {\n",
              "        const element = document.querySelector('#df-82cba6b9-20c8-4ac0-b8f2-5371146dcb08');\n",
              "        const dataTable =\n",
              "          await google.colab.kernel.invokeFunction('convertToInteractive',\n",
              "                                                    [key], {});\n",
              "        if (!dataTable) return;\n",
              "\n",
              "        const docLinkHtml = 'Like what you see? Visit the ' +\n",
              "          '<a target=\"_blank\" href=https://colab.research.google.com/notebooks/data_table.ipynb>data table notebook</a>'\n",
              "          + ' to learn more about interactive tables.';\n",
              "        element.innerHTML = '';\n",
              "        dataTable['output_type'] = 'display_data';\n",
              "        await google.colab.output.renderOutput(dataTable, element);\n",
              "        const docLink = document.createElement('div');\n",
              "        docLink.innerHTML = docLinkHtml;\n",
              "        element.appendChild(docLink);\n",
              "      }\n",
              "    </script>\n",
              "  </div>\n",
              "\n",
              "\n",
              "<div id=\"df-3038c03d-c6db-4412-8e6e-e3cb9f6ff5ba\">\n",
              "  <button class=\"colab-df-quickchart\" onclick=\"quickchart('df-3038c03d-c6db-4412-8e6e-e3cb9f6ff5ba')\"\n",
              "            title=\"Suggest charts.\"\n",
              "            style=\"display:none;\">\n",
              "\n",
              "<svg xmlns=\"http://www.w3.org/2000/svg\" height=\"24px\"viewBox=\"0 0 24 24\"\n",
              "     width=\"24px\">\n",
              "    <g>\n",
              "        <path d=\"M19 3H5c-1.1 0-2 .9-2 2v14c0 1.1.9 2 2 2h14c1.1 0 2-.9 2-2V5c0-1.1-.9-2-2-2zM9 17H7v-7h2v7zm4 0h-2V7h2v10zm4 0h-2v-4h2v4z\"/>\n",
              "    </g>\n",
              "</svg>\n",
              "  </button>\n",
              "\n",
              "<style>\n",
              "  .colab-df-quickchart {\n",
              "      --bg-color: #E8F0FE;\n",
              "      --fill-color: #1967D2;\n",
              "      --hover-bg-color: #E2EBFA;\n",
              "      --hover-fill-color: #174EA6;\n",
              "      --disabled-fill-color: #AAA;\n",
              "      --disabled-bg-color: #DDD;\n",
              "  }\n",
              "\n",
              "  [theme=dark] .colab-df-quickchart {\n",
              "      --bg-color: #3B4455;\n",
              "      --fill-color: #D2E3FC;\n",
              "      --hover-bg-color: #434B5C;\n",
              "      --hover-fill-color: #FFFFFF;\n",
              "      --disabled-bg-color: #3B4455;\n",
              "      --disabled-fill-color: #666;\n",
              "  }\n",
              "\n",
              "  .colab-df-quickchart {\n",
              "    background-color: var(--bg-color);\n",
              "    border: none;\n",
              "    border-radius: 50%;\n",
              "    cursor: pointer;\n",
              "    display: none;\n",
              "    fill: var(--fill-color);\n",
              "    height: 32px;\n",
              "    padding: 0;\n",
              "    width: 32px;\n",
              "  }\n",
              "\n",
              "  .colab-df-quickchart:hover {\n",
              "    background-color: var(--hover-bg-color);\n",
              "    box-shadow: 0 1px 2px rgba(60, 64, 67, 0.3), 0 1px 3px 1px rgba(60, 64, 67, 0.15);\n",
              "    fill: var(--button-hover-fill-color);\n",
              "  }\n",
              "\n",
              "  .colab-df-quickchart-complete:disabled,\n",
              "  .colab-df-quickchart-complete:disabled:hover {\n",
              "    background-color: var(--disabled-bg-color);\n",
              "    fill: var(--disabled-fill-color);\n",
              "    box-shadow: none;\n",
              "  }\n",
              "\n",
              "  .colab-df-spinner {\n",
              "    border: 2px solid var(--fill-color);\n",
              "    border-color: transparent;\n",
              "    border-bottom-color: var(--fill-color);\n",
              "    animation:\n",
              "      spin 1s steps(1) infinite;\n",
              "  }\n",
              "\n",
              "  @keyframes spin {\n",
              "    0% {\n",
              "      border-color: transparent;\n",
              "      border-bottom-color: var(--fill-color);\n",
              "      border-left-color: var(--fill-color);\n",
              "    }\n",
              "    20% {\n",
              "      border-color: transparent;\n",
              "      border-left-color: var(--fill-color);\n",
              "      border-top-color: var(--fill-color);\n",
              "    }\n",
              "    30% {\n",
              "      border-color: transparent;\n",
              "      border-left-color: var(--fill-color);\n",
              "      border-top-color: var(--fill-color);\n",
              "      border-right-color: var(--fill-color);\n",
              "    }\n",
              "    40% {\n",
              "      border-color: transparent;\n",
              "      border-right-color: var(--fill-color);\n",
              "      border-top-color: var(--fill-color);\n",
              "    }\n",
              "    60% {\n",
              "      border-color: transparent;\n",
              "      border-right-color: var(--fill-color);\n",
              "    }\n",
              "    80% {\n",
              "      border-color: transparent;\n",
              "      border-right-color: var(--fill-color);\n",
              "      border-bottom-color: var(--fill-color);\n",
              "    }\n",
              "    90% {\n",
              "      border-color: transparent;\n",
              "      border-bottom-color: var(--fill-color);\n",
              "    }\n",
              "  }\n",
              "</style>\n",
              "\n",
              "  <script>\n",
              "    async function quickchart(key) {\n",
              "      const quickchartButtonEl =\n",
              "        document.querySelector('#' + key + ' button');\n",
              "      quickchartButtonEl.disabled = true;  // To prevent multiple clicks.\n",
              "      quickchartButtonEl.classList.add('colab-df-spinner');\n",
              "      try {\n",
              "        const charts = await google.colab.kernel.invokeFunction(\n",
              "            'suggestCharts', [key], {});\n",
              "      } catch (error) {\n",
              "        console.error('Error during call to suggestCharts:', error);\n",
              "      }\n",
              "      quickchartButtonEl.classList.remove('colab-df-spinner');\n",
              "      quickchartButtonEl.classList.add('colab-df-quickchart-complete');\n",
              "    }\n",
              "    (() => {\n",
              "      let quickchartButtonEl =\n",
              "        document.querySelector('#df-3038c03d-c6db-4412-8e6e-e3cb9f6ff5ba button');\n",
              "      quickchartButtonEl.style.display =\n",
              "        google.colab.kernel.accessAllowed ? 'block' : 'none';\n",
              "    })();\n",
              "  </script>\n",
              "</div>\n",
              "    </div>\n",
              "  </div>\n"
            ]
          },
          "metadata": {},
          "execution_count": 6
        }
      ]
    },
    {
      "cell_type": "markdown",
      "source": [
        "## Step 3: Data Preprocessing"
      ],
      "metadata": {
        "id": "snG-90eGEnXP"
      }
    },
    {
      "cell_type": "code",
      "source": [
        "# Lowercasing and tokenization\n",
        "data['text'] = data['text'].str.lower()\n",
        "data['title'] = data['title'].str.lower()\n",
        "data['text'] = data['text'].apply(nltk.word_tokenize)\n",
        "data['title'] = data['title'].apply(nltk.word_tokenize)\n",
        "\n",
        "# Remove stopwords\n",
        "stop_words = set(stopwords.words('english'))\n",
        "data['text'] = data['text'].apply(lambda x: [word for word in x if word not in stop_words])\n",
        "data['title'] = data['title'].apply(lambda x: [word for word in x if word not in stop_words])"
      ],
      "metadata": {
        "id": "CkOm1kI9EqQC"
      },
      "execution_count": null,
      "outputs": []
    },
    {
      "cell_type": "markdown",
      "source": [
        "## Step 4: Feature Extraction (TF-IDF)"
      ],
      "metadata": {
        "id": "Rrf6Em1KEt6I"
      }
    },
    {
      "cell_type": "code",
      "source": [
        "tfidf_vectorizer = TfidfVectorizer(max_features=5000)\n",
        "text_tfidf = tfidf_vectorizer.fit_transform(data['text'].apply(lambda x: ' '.join(x)))\n",
        "title_tfidf = tfidf_vectorizer.transform(data['title'].apply(lambda x: ' '.join(x)))\n"
      ],
      "metadata": {
        "id": "-E0hE-53FXvy"
      },
      "execution_count": null,
      "outputs": []
    },
    {
      "cell_type": "markdown",
      "source": [
        "## Step 5: Split the Data into Training and Testing Sets"
      ],
      "metadata": {
        "id": "QFfl9sblFaYY"
      }
    },
    {
      "cell_type": "code",
      "source": [
        "X = text_tfidf\n",
        "y = data['label']\n",
        "\n",
        "X_train, X_test, y_train, y_test = train_test_split(X, y, test_size=0.2, random_state=42)\n",
        "# Display the shapes of training and testing data\n",
        "print(f\"X_train shape: {X_train.shape}\")\n",
        "print(f\"X_test shape: {X_test.shape}\")\n",
        "print(f\"y_train shape: {y_train.shape}\")\n",
        "print(f\"y_test shape: {y_test.shape}\")\n"
      ],
      "metadata": {
        "id": "0gRGbyuCFfvZ",
        "colab": {
          "base_uri": "https://localhost:8080/"
        },
        "outputId": "7a83cd2b-ceb5-46e5-a744-2cff0d2b0fd6"
      },
      "execution_count": null,
      "outputs": [
        {
          "output_type": "stream",
          "name": "stdout",
          "text": [
            "X_train shape: (35918, 5000)\n",
            "X_test shape: (8980, 5000)\n",
            "y_train shape: (35918,)\n",
            "y_test shape: (8980,)\n"
          ]
        }
      ]
    },
    {
      "cell_type": "markdown",
      "source": [
        "# Step 6: Model Training\n",
        "\n",
        " Training our model with different algorithms using the training data and evaluating its performance on the testing data.\n",
        "\n"
      ],
      "metadata": {
        "id": "DtDw_TAxfKbB"
      }
    },
    {
      "cell_type": "markdown",
      "source": [
        "# **Decision Tree**"
      ],
      "metadata": {
        "id": "jo4ii3EuaCG_"
      }
    },
    {
      "cell_type": "code",
      "source": [
        "from sklearn.tree import DecisionTreeClassifier\n",
        "\n",
        "# Define and train the Decision Tree model\n",
        "decision_tree = DecisionTreeClassifier()\n",
        "decision_tree.fit(X_train, y_train)\n",
        "\n",
        "# Evaluate the Decision Tree model\n",
        "def evaluate_decision_tree(model, X_test, y_test):\n",
        "    y_pred = model.predict(X_test)\n",
        "    accuracy = accuracy_score(y_test, y_pred)\n",
        "    confusion = confusion_matrix(y_test, y_pred)\n",
        "    classification_rep = classification_report(y_test, y_pred)\n",
        "\n",
        "    return accuracy, confusion, classification_rep\n",
        "\n",
        "# Evaluate Decision Tree\n",
        "dt_accuracy, dt_confusion, dt_classification = evaluate_decision_tree(decision_tree, X_test, y_test)\n",
        "print(\"Decision Tree Accuracy:\", dt_accuracy)\n",
        "print(\"Decision Tree Confusion Matrix:\\n\", dt_confusion)\n",
        "print(\"Decision Tree Classification Report:\\n\", dt_classification)\n"
      ],
      "metadata": {
        "colab": {
          "base_uri": "https://localhost:8080/"
        },
        "id": "sajevtL3aJa3",
        "outputId": "fcd9b7a6-1748-4eef-f883-ccba6e16282d"
      },
      "execution_count": null,
      "outputs": [
        {
          "output_type": "stream",
          "name": "stdout",
          "text": [
            "Decision Tree Accuracy: 0.9969933184855234\n",
            "Decision Tree Confusion Matrix:\n",
            " [[4639   11]\n",
            " [  16 4314]]\n",
            "Decision Tree Classification Report:\n",
            "               precision    recall  f1-score   support\n",
            "\n",
            "           0       1.00      1.00      1.00      4650\n",
            "           1       1.00      1.00      1.00      4330\n",
            "\n",
            "    accuracy                           1.00      8980\n",
            "   macro avg       1.00      1.00      1.00      8980\n",
            "weighted avg       1.00      1.00      1.00      8980\n",
            "\n"
          ]
        }
      ]
    },
    {
      "cell_type": "markdown",
      "source": [
        "# **Random Forest**"
      ],
      "metadata": {
        "id": "dHDkpt-naVkg"
      }
    },
    {
      "cell_type": "code",
      "source": [
        "from sklearn.ensemble import RandomForestClassifier\n",
        "\n",
        "# Define and train the Random Forest model\n",
        "random_forest = RandomForestClassifier(n_estimators=100)\n",
        "random_forest.fit(X_train, y_train)\n",
        "\n",
        "# Evaluate the Random Forest model\n",
        "def evaluate_random_forest(model, X_test, y_test):\n",
        "    y_pred = model.predict(X_test)\n",
        "    accuracy = accuracy_score(y_test, y_pred)\n",
        "    confusion = confusion_matrix(y_test, y_pred)\n",
        "    classification_rep = classification_report(y_test, y_pred)\n",
        "\n",
        "    return accuracy, confusion, classification_rep\n",
        "\n",
        "# Evaluate Random Forest\n",
        "rf_accuracy, rf_confusion, rf_classification = evaluate_random_forest(random_forest, X_test, y_test)\n",
        "print(\"Random Forest Accuracy:\", rf_accuracy)\n",
        "print(\"Random Forest Confusion Matrix:\\n\", rf_confusion)\n",
        "print(\"Random Forest Classification Report:\\n\", rf_classification)\n"
      ],
      "metadata": {
        "colab": {
          "base_uri": "https://localhost:8080/"
        },
        "id": "sGHN9OSJaXqP",
        "outputId": "50803215-a65e-44dc-b658-c0253fc474e7"
      },
      "execution_count": null,
      "outputs": [
        {
          "output_type": "stream",
          "name": "stdout",
          "text": [
            "Random Forest Accuracy: 0.9979955456570155\n",
            "Random Forest Confusion Matrix:\n",
            " [[4643    7]\n",
            " [  11 4319]]\n",
            "Random Forest Classification Report:\n",
            "               precision    recall  f1-score   support\n",
            "\n",
            "           0       1.00      1.00      1.00      4650\n",
            "           1       1.00      1.00      1.00      4330\n",
            "\n",
            "    accuracy                           1.00      8980\n",
            "   macro avg       1.00      1.00      1.00      8980\n",
            "weighted avg       1.00      1.00      1.00      8980\n",
            "\n"
          ]
        }
      ]
    },
    {
      "cell_type": "markdown",
      "source": [
        "# **Logistic Regression**"
      ],
      "metadata": {
        "id": "OxVNJWaaagAu"
      }
    },
    {
      "cell_type": "code",
      "source": [
        "from sklearn.linear_model import LogisticRegression\n",
        "\n",
        "# Define and train the Logistic Regression model\n",
        "logistic_regression = LogisticRegression()\n",
        "logistic_regression.fit(X_train, y_train)\n",
        "\n",
        "# Evaluate the Logistic Regression model\n",
        "def evaluate_logistic_regression(model, X_test, y_test):\n",
        "    y_pred = model.predict(X_test)\n",
        "    accuracy = accuracy_score(y_test, y_pred)\n",
        "    confusion = confusion_matrix(y_test, y_pred)\n",
        "    classification_rep = classification_report(y_test, y_pred)\n",
        "\n",
        "    return accuracy, confusion, classification_rep\n",
        "\n",
        "# Evaluate Logistic Regression\n",
        "lr_accuracy, lr_confusion, lr_classification = evaluate_logistic_regression(logistic_regression, X_test, y_test)\n",
        "print(\"Logistic Regression Accuracy:\", lr_accuracy)\n",
        "print(\"Logistic Regression Confusion Matrix:\\n\", lr_confusion)\n",
        "print(\"Logistic Regression Classification Report:\\n\", lr_classification)\n"
      ],
      "metadata": {
        "colab": {
          "base_uri": "https://localhost:8080/"
        },
        "id": "ZwaAirFIac3H",
        "outputId": "9ec033bd-1281-45b7-f74d-ae11b0eb146c"
      },
      "execution_count": null,
      "outputs": [
        {
          "output_type": "stream",
          "name": "stdout",
          "text": [
            "Logistic Regression Accuracy: 0.9922048997772829\n",
            "Logistic Regression Confusion Matrix:\n",
            " [[4603   47]\n",
            " [  23 4307]]\n",
            "Logistic Regression Classification Report:\n",
            "               precision    recall  f1-score   support\n",
            "\n",
            "           0       1.00      0.99      0.99      4650\n",
            "           1       0.99      0.99      0.99      4330\n",
            "\n",
            "    accuracy                           0.99      8980\n",
            "   macro avg       0.99      0.99      0.99      8980\n",
            "weighted avg       0.99      0.99      0.99      8980\n",
            "\n"
          ]
        }
      ]
    },
    {
      "cell_type": "markdown",
      "source": [
        "#Step 7: Model Validation and Evaluation\n"
      ],
      "metadata": {
        "id": "gpmBtmjpkeUq"
      }
    },
    {
      "cell_type": "markdown",
      "source": [
        "# **Logistic Regression**"
      ],
      "metadata": {
        "id": "8POs_x6DdGlr"
      }
    },
    {
      "cell_type": "code",
      "source": [
        "from sklearn.metrics import precision_score, recall_score, f1_score\n",
        "\n",
        "# Testing and evaluating Logistic Regression\n",
        "lr_test_predictions = logistic_regression.predict(X_test)\n",
        "lr_test_precision = precision_score(y_test, lr_test_predictions)\n",
        "lr_test_recall = recall_score(y_test, lr_test_predictions)\n",
        "lr_test_f1 = f1_score(y_test, lr_test_predictions)\n",
        "\n",
        "# Print precision, recall, and F1 score for Logistic Regression\n",
        "print(\"Logistic Regression Test Precision:\", lr_test_precision)\n",
        "print(\"Logistic Regression Test Recall:\", lr_test_recall)\n",
        "print(\"Logistic Regression Test F1 Score:\", lr_test_f1)\n",
        "\n",
        "# Repeat the testing and evaluation for the other classifiers (Random Forest, Passive Aggressive, Decision Tree)\n",
        "\n"
      ],
      "metadata": {
        "colab": {
          "base_uri": "https://localhost:8080/"
        },
        "id": "xAraPDvedFhG",
        "outputId": "18822ca7-538a-4ca4-89b9-4f45ba0f9701"
      },
      "execution_count": null,
      "outputs": [
        {
          "output_type": "stream",
          "name": "stdout",
          "text": [
            "Logistic Regression Test Precision: 0.9892053284336243\n",
            "Logistic Regression Test Recall: 0.994688221709007\n",
            "Logistic Regression Test F1 Score: 0.991939198526025\n"
          ]
        }
      ]
    },
    {
      "cell_type": "markdown",
      "source": [
        "# **Random forest**"
      ],
      "metadata": {
        "id": "UEy1rGxadZC-"
      }
    },
    {
      "cell_type": "code",
      "source": [
        "from sklearn.metrics import precision_score, recall_score, f1_score\n",
        "\n",
        "# Testing the Random Forest model on the test data\n",
        "rf_test_predictions = random_forest.predict(X_test)\n",
        "\n",
        "# Evaluate Random Forest on the test data\n",
        "rf_test_precision = precision_score(y_test, rf_test_predictions)\n",
        "rf_test_recall = recall_score(y_test, rf_test_predictions)\n",
        "rf_test_f1 = f1_score(y_test, rf_test_predictions)\n",
        "\n",
        "# Print precision, recall, and F1 score for Random Forest\n",
        "print(\"Random Forest Test Precision:\", rf_test_precision)\n",
        "print(\"Random Forest Test Recall:\", rf_test_recall)\n",
        "print(\"Random Forest Test F1 Score:\", rf_test_f1)\n"
      ],
      "metadata": {
        "colab": {
          "base_uri": "https://localhost:8080/"
        },
        "id": "WlXDObKEdcoG",
        "outputId": "145d8a45-f61a-4c3c-aa82-9c0e0080bb54"
      },
      "execution_count": null,
      "outputs": [
        {
          "output_type": "stream",
          "name": "stdout",
          "text": [
            "Random Forest Test Precision: 0.9983818770226537\n",
            "Random Forest Test Recall: 0.997459584295612\n",
            "Random Forest Test F1 Score: 0.9979205175600738\n"
          ]
        }
      ]
    },
    {
      "cell_type": "markdown",
      "source": [
        "# **Decision Tree**"
      ],
      "metadata": {
        "id": "xXHPMEFUdlac"
      }
    },
    {
      "cell_type": "code",
      "source": [
        "from sklearn.metrics import precision_score, recall_score, f1_score\n",
        "\n",
        "# Testing the Decision Tree model on the test data\n",
        "dt_test_predictions = decision_tree.predict(X_test)\n",
        "\n",
        "# Evaluate Decision Tree on the test data\n",
        "dt_test_precision = precision_score(y_test, dt_test_predictions)\n",
        "dt_test_recall = recall_score(y_test, dt_test_predictions)\n",
        "dt_test_f1 = f1_score(y_test, dt_test_predictions)\n",
        "\n",
        "# Print precision, recall, and F1 score for Decision Tree\n",
        "print(\"Decision Tree Test Precision:\", dt_test_precision)\n",
        "print(\"Decision Tree Test Recall:\", dt_test_recall)\n",
        "print(\"Decision Tree Test F1 Score:\", dt_test_f1)\n"
      ],
      "metadata": {
        "id": "4LxeHEqjdolk",
        "colab": {
          "base_uri": "https://localhost:8080/"
        },
        "outputId": "79a5634b-d9ac-4932-bb98-a8b94babd1bb"
      },
      "execution_count": null,
      "outputs": [
        {
          "output_type": "stream",
          "name": "stdout",
          "text": [
            "Decision Tree Test Precision: 0.9974566473988439\n",
            "Decision Tree Test Recall: 0.9963048498845266\n",
            "Decision Tree Test F1 Score: 0.9968804159445407\n"
          ]
        }
      ]
    },
    {
      "cell_type": "code",
      "source": [
        "import matplotlib.pyplot as plt\n",
        "\n",
        "# Define the algorithm names and their corresponding metrics\n",
        "algorithms = ['Logistic Regression', 'Random Forest', 'Passive Aggressive', 'Decision Tree']\n",
        "accuracies = [lr_accuracy, rf_accuracy, pa_accuracy, dt_accuracy]\n",
        "precisions = [lr_test_precision, rf_test_precision, pa_test_precision, dt_test_precision]\n",
        "recalls = [lr_test_recall, rf_test_recall, pa_test_recall, dt_test_recall]\n",
        "f1_scores = [lr_test_f1, rf_test_f1, pa_test_f1, dt_test_f1]\n",
        "\n",
        "# Create a bar chart for accuracy\n",
        "plt.figure(figsize=(10, 6))\n",
        "plt.bar(algorithms, accuracies, color='skyblue')\n",
        "plt.xlabel('Algorithm')\n",
        "plt.ylabel('Accuracy')\n",
        "plt.title('Algorithm Comparison - Accuracy')\n",
        "plt.xticks(rotation=45)\n",
        "plt.show()\n",
        "\n",
        "# Create a bar chart for precision\n",
        "plt.figure(figsize=(10, 6))\n",
        "plt.bar(algorithms, precisions, color='lightcoral')\n",
        "plt.xlabel('Algorithm')\n",
        "plt.ylabel('Precision')\n",
        "plt.title('Algorithm Comparison - Precision')\n",
        "plt.xticks(rotation=45)\n",
        "plt.show()\n",
        "\n",
        "# Create a bar chart for recall\n",
        "plt.figure(figsize=(10, 6))\n",
        "plt.bar(algorithms, recalls, color='lightgreen')\n",
        "plt.xlabel('Algorithm')\n",
        "plt.ylabel('Recall')\n",
        "plt.title('Algorithm Comparison - Recall')\n",
        "plt.xticks(rotation=45)\n",
        "plt.show()\n",
        "\n",
        "# Create a bar chart for F1 score\n",
        "plt.figure(figsize=(10, 6))\n",
        "plt.bar(algorithms, f1_scores, color='gold')\n",
        "plt.xlabel('Algorithm')\n",
        "plt.ylabel('F1 Score')\n",
        "plt.title('Algorithm Comparison - F1 Score')\n",
        "plt.xticks(rotation=45)\n",
        "plt.show()\n"
      ],
      "metadata": {
        "colab": {
          "base_uri": "https://localhost:8080/",
          "height": 1000
        },
        "id": "UorChEImJHtY",
        "outputId": "c4047bef-5a4b-4fd8-c0c8-71e0b1e4c86d"
      },
      "execution_count": null,
      "outputs": [
        {
          "output_type": "display_data",
          "data": {
            "text/plain": [
              "<Figure size 1000x600 with 1 Axes>"
            ],
            "image/png": "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\n"
          },
          "metadata": {}
        },
        {
          "output_type": "display_data",
          "data": {
            "text/plain": [
              "<Figure size 1000x600 with 1 Axes>"
            ],
            "image/png": "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\n"
          },
          "metadata": {}
        },
        {
          "output_type": "display_data",
          "data": {
            "text/plain": [
              "<Figure size 1000x600 with 1 Axes>"
            ],
            "image/png": "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\n"
          },
          "metadata": {}
        },
        {
          "output_type": "display_data",
          "data": {
            "text/plain": [
              "<Figure size 1000x600 with 1 Axes>"
            ],
            "image/png": "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\n"
          },
          "metadata": {}
        }
      ]
    },
    {
      "cell_type": "code",
      "source": [
        "import matplotlib.pyplot as plt\n",
        "import pandas as pd\n",
        "\n",
        "# Define the algorithm names and their corresponding metrics\n",
        "algorithms = ['Logistic Regression', 'Random Forest', 'Passive Aggressive', 'Decision Tree']\n",
        "accuracy_scores = [lr_accuracy, rf_accuracy, pa_accuracy, dt_accuracy]\n",
        "precision_scores = [lr_test_precision, rf_test_precision, pa_test_precision, dt_test_precision]\n",
        "recall_scores = [lr_test_recall, rf_test_recall, pa_test_recall, dt_test_recall]\n",
        "f1_scores = [lr_test_f1, rf_test_f1, pa_test_f1, dt_test_f1]\n",
        "\n",
        "# Create a DataFrame to store the results\n",
        "results_df = pd.DataFrame({\n",
        "    'Algorithm': algorithms,\n",
        "    'Accuracy': accuracy_scores,\n",
        "    'Precision': precision_scores,\n",
        "    'Recall': recall_scores,\n",
        "    'F1 Score': f1_scores\n",
        "})\n",
        "\n",
        "# Set the algorithm column as the index for plotting\n",
        "results_df.set_index('Algorithm', inplace=True)\n",
        "\n",
        "# Create a bar chart for all metrics\n",
        "plt.figure(figsize=(12, 8))\n",
        "results_df.plot(kind='bar', stacked=False)\n",
        "plt.xlabel('Algorithm')\n",
        "plt.ylabel('Score')\n",
        "plt.title('Algorithm Comparison - Test Metrics')\n",
        "plt.xticks(rotation=45)\n",
        "plt.legend(loc='upper right')\n",
        "plt.show()\n"
      ],
      "metadata": {
        "colab": {
          "base_uri": "https://localhost:8080/",
          "height": 579
        },
        "id": "TCg_O0DjLDhR",
        "outputId": "b1b5e80b-b632-4f08-de4c-b785f065c9e6"
      },
      "execution_count": null,
      "outputs": [
        {
          "output_type": "display_data",
          "data": {
            "text/plain": [
              "<Figure size 1200x800 with 0 Axes>"
            ]
          },
          "metadata": {}
        },
        {
          "output_type": "display_data",
          "data": {
            "text/plain": [
              "<Figure size 640x480 with 1 Axes>"
            ],
            "image/png": "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\n"
          },
          "metadata": {}
        }
      ]
    },
    {
      "cell_type": "markdown",
      "source": [
        "# **MODEL VALIDATION**\n",
        "## *News Prediction*"
      ],
      "metadata": {
        "id": "qOe4ecgsWtwI"
      }
    },
    {
      "cell_type": "code",
      "source": [
        "import nltk\n",
        "from nltk.corpus import stopwords\n",
        "\n",
        "# Define a function for predicting titles\n",
        "def predict_title(title_text):\n",
        "    # Preprocess the title\n",
        "    preprocessed_title_text = title_text.lower()\n",
        "    preprocessed_title_text = nltk.word_tokenize(preprocessed_title_text)\n",
        "    preprocessed_title_text = [word for word in preprocessed_title_text if word not in stop_words]\n",
        "\n",
        "    # Convert the preprocessed text into TF-IDF vectors\n",
        "    tfidf_vector = tfidf_vectorizer.transform([\" \".join(preprocessed_title_text)])\n",
        "\n",
        "    # Make the prediction\n",
        "    prediction = naive_bayes_model.predict(tfidf_vector)\n",
        "\n",
        "    return prediction\n",
        "\n",
        "# Example titles\n",
        "title_text_1 = \"23 Maoists surrender in Chhattisgarh's Sukma: Twenty-three Maoists, carrying bounties worth ₹1.18 crore, surrendered in Sukma district on Saturday, July 12, 2025. Authorities attributed the surrender to successful anti-insurgency operations in the region. This news was reported by The Indian Express.\"\n",
        "title_text_2 = \"Rumors of fuel switches causing Air India crash spark debate: A preliminary report into the Air India Boeing 787 crash in Ahmedabad on June 12, 2025, which killed 260 people, revealed that both engine fuel switches moved to the "Cutoff" position shortly after takeoff. This has sparked debate among aviation experts and prompted grieving relatives of the victims to seek more answers. \"\n",
        "\n",
        "# Predict and display results for both titles\n",
        "prediction_1 = predict_title(title_text_1)\n",
        "prediction_2 = predict_title(title_text_2)\n",
        "\n",
        "if prediction_1 == 1:\n",
        "    print(\"Title 1: The news is likely true.\")\n",
        "else:\n",
        "    print(\"Title 1: The news is likely fake.\")\n",
        "\n",
        "if prediction_2 == 1:\n",
        "    print(\"Title 2: The news is likely true.\")\n",
        "else:\n",
        "    print(\"Title 2: The news is likely fake.\")\n"
      ],
      "metadata": {
        "colab": {
          "base_uri": "https://localhost:8080/"
        },
        "id": "_rrRotzlhkoI",
        "outputId": "500a1195-febb-4ea8-d818-7331085cbaf7"
      },
      "execution_count": null,
      "outputs": [
        {
          "output_type": "stream",
          "name": "stdout",
          "text": [
            "Title 1: The news is likely fake.\n",
            "Title 2: The news is likely true.\n"
          ]
        }
      ]
    }
  ]
}
